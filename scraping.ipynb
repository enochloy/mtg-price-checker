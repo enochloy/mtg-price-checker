{
 "cells": [
  {
   "cell_type": "markdown",
   "id": "69cdfd85",
   "metadata": {},
   "source": [
    "# Imports"
   ]
  },
  {
   "cell_type": "code",
   "execution_count": 1,
   "id": "9be2cbbe",
   "metadata": {},
   "outputs": [],
   "source": [
    "# import\n",
    "from selenium import webdriver\n",
    "from selenium.webdriver.chrome.service import Service as ChromeService\n",
    "from webdriver_manager.chrome import ChromeDriverManager\n",
    "from selenium.webdriver import ActionChains\n",
    "from selenium.webdriver.common.by import By\n",
    "from selenium.webdriver.common.actions.wheel_input import ScrollOrigin\n",
    "from selenium.webdriver.support.wait import WebDriverWait\n",
    "from selenium.webdriver.support import expected_conditions as EC\n",
    "from selenium.common.exceptions import ElementNotInteractableException\n",
    "\n",
    "from bs4 import BeautifulSoup\n",
    "import requests\n",
    "import pandas as pd\n",
    "import sqlite3\n",
    "\n",
    "from time import sleep\n",
    "import random\n",
    "import re"
   ]
  },
  {
   "cell_type": "markdown",
   "id": "f00d4d10",
   "metadata": {},
   "source": [
    "# Scraping Agora"
   ]
  },
  {
   "cell_type": "code",
   "execution_count": 2,
   "id": "c72dc8c9",
   "metadata": {},
   "outputs": [],
   "source": [
    "# open browser\n",
    "driver = webdriver.Chrome(service=ChromeService(ChromeDriverManager().install()))\n",
    "driver.get(\"https://agorahobby.com/store/mtg\")\n",
    "\n",
    "# obtain list of urls\n",
    "urls = []\n",
    "elements = driver.find_elements(By.CLASS_NAME, \"sn_lvl1navi\")\n",
    "for element in elements:\n",
    "    href = element.find_element(By.CLASS_NAME, \"sn_toplink\").get_attribute(\"href\")\n",
    "    \n",
    "    if not href.endswith(\"#\"):\n",
    "        urls.append(href)\n",
    "    else:\n",
    "        inner_elements = element.find_elements(By.CLASS_NAME, \"sn_link\")\n",
    "        for inner_element in inner_elements:\n",
    "            urls.append((inner_element.get_attribute(\"href\")))\n",
    "            \n",
    "# quit driver\n",
    "driver.quit()"
   ]
  },
  {
   "cell_type": "code",
   "execution_count": 3,
   "id": "9f832c8e",
   "metadata": {},
   "outputs": [],
   "source": [
    "# create empty list\n",
    "agora = []"
   ]
  },
  {
   "cell_type": "code",
   "execution_count": null,
   "id": "2adf5a2a",
   "metadata": {},
   "outputs": [],
   "source": [
    "# loop through urls\n",
    "for url in urls:\n",
    "    # open browser and wait 2s\n",
    "    driver = webdriver.Chrome(service=ChromeService(ChromeDriverManager().install()))\n",
    "    driver.get(url)\n",
    "    sleep(5)\n",
    "\n",
    "    while True:\n",
    "        try:\n",
    "        # click on loadmore\n",
    "            loadmore = driver.find_element(By.ID, \"list_loadmore\")\n",
    "            loadmore.click()\n",
    "            sleep(2)\n",
    "        # once it hit ends of the page\n",
    "        except Exception as e:\n",
    "            print(f\"Error clicking 'loadmore': {e}\")\n",
    "            break\n",
    "\n",
    "    item_names = driver.find_elements(By.CLASS_NAME, \"store-item-title\")\n",
    "    item_prices = driver.find_elements(By.CLASS_NAME, \"store-item-price\")\n",
    "    for name, price in zip(item_names, item_prices):\n",
    "        temp_dict = {}\n",
    "        temp_dict['name'] = name.text\n",
    "        temp_dict['price'] = float(price.text.replace('$', ''))\n",
    "        agora.append(temp_dict)\n",
    "    print(f\"{url} is done!\")\n",
    "    print(agora[-1])\n",
    "    \n",
    "    driver.quit()"
   ]
  },
  {
   "cell_type": "code",
   "execution_count": null,
   "id": "329b7122",
   "metadata": {},
   "outputs": [],
   "source": [
    "agora_df = pd.DataFrame(agora)\n",
    "agora_df['store'] = 'agora'\n",
    "agora_df.to_csv('agora.csv')"
   ]
  },
  {
   "cell_type": "markdown",
   "id": "19d57f80",
   "metadata": {},
   "source": [
    "# Scraping OneMTG"
   ]
  },
  {
   "cell_type": "code",
   "execution_count": 2,
   "id": "464d4ebb",
   "metadata": {},
   "outputs": [
    {
     "data": {
      "text/plain": [
       "200"
      ]
     },
     "execution_count": 2,
     "metadata": {},
     "output_type": "execute_result"
    }
   ],
   "source": [
    "# Indicate base url\n",
    "url = 'https://onemtg.com.sg/collections/mtg-singles-instock'\n",
    "base_url = 'https://onemtg.com.sg/collections/mtg-singles-instock?page='\n",
    "response = requests.get(url)\n",
    "response.status_code"
   ]
  },
  {
   "cell_type": "code",
   "execution_count": 3,
   "id": "2d2c7e8e",
   "metadata": {},
   "outputs": [
    {
     "name": "stdout",
     "output_type": "stream",
     "text": [
      "Number of pages (OneMTG):  3724\n"
     ]
    }
   ],
   "source": [
    "soup = BeautifulSoup(response.text, 'lxml')\n",
    "num_pages = int(soup.find_all('div', class_='pages')[-1].text)\n",
    "print('Number of pages (OneMTG): ', num_pages)"
   ]
  },
  {
   "cell_type": "code",
   "execution_count": 4,
   "id": "bb0efc4a",
   "metadata": {},
   "outputs": [],
   "source": [
    "# create empty list\n",
    "onemtg = []"
   ]
  },
  {
   "cell_type": "code",
   "execution_count": 5,
   "id": "9beb18a3",
   "metadata": {},
   "outputs": [
    {
     "name": "stdout",
     "output_type": "stream",
     "text": [
      "{'name': 'Big Score [Streets of New Capenna]', 'price': 1.7} 200\n",
      "{'name': 'Farseek [Ravnica: City of Guilds]', 'price': 2.2} 200\n",
      "{'name': 'Dusk Legion Zealot [Masters 25]', 'price': 0.4} 200\n",
      "{'name': 'Volcanic Torrent [Commander Legends]', 'price': 0.5} 200\n",
      "{'name': 'Ratadrabik of Urborg [Dominaria United]', 'price': 1.1} 200\n",
      "{'name': 'Shimmer Myr [Kamigawa: Neon Dynasty Commander]', 'price': 0.5} 200\n",
      "{'name': 'Primal Command [Strixhaven: School of Mages Mystical Archive]', 'price': 2.2} 200\n",
      "{'name': 'Etali, Primal Storm (Timeshifted) [Time Spiral Remastered]', 'price': 2.8} 200\n",
      "{'name': 'Fatal Grudge [Streets of New Capenna]', 'price': 0.5} 200\n",
      "{'name': 'Bloodgift Demon [Commander 2014]', 'price': 2.4} 200\n",
      "{'name': 'Insect Token [Dominaria Remastered Tokens]', 'price': 0.4} 200\n",
      "{'name': 'Elvish Pioneer [Onslaught]', 'price': 0.36} 200\n",
      "{'name': 'Student of Ojutai [Iconic Masters]', 'price': 0.4} 200\n",
      "{'name': 'Elemental Token [Wilds of Eldraine Tokens]', 'price': 0.8} 200\n",
      "{'name': 'Uurg, Spawn of Turg [Dominaria United]', 'price': 0.5} 200\n",
      "{'name': 'Dust Corona [Planar Chaos]', 'price': 0.4} 200\n",
      "{'name': 'Sword of the Chosen [Stronghold]', 'price': 1.0} 200\n",
      "{'name': 'Prized Unicorn [Magic 2011]', 'price': 0.5} 200\n",
      "{'name': 'Cultivate [Commander 2019]', 'price': 1.0} 200\n",
      "{'name': 'Champion of Dusk [The Lost Caverns of Ixalan Commander]', 'price': 0.6} 200\n",
      "{'name': 'The Mending of Dominaria [Commander Masters]', 'price': 0.6} 200\n",
      "{'name': 'Gray Ogre [Beta Edition]', 'price': 11.2} 200\n",
      "{'name': 'Spider Token [Shadowmoor Tokens]', 'price': 0.7} 200\n",
      "{'name': 'Ceremonial Groundbreaker [Streets of New Capenna]', 'price': 0.5} 200\n",
      "{'name': 'Half-Kitten, Half- [Unstable]', 'price': 0.5} 200\n",
      "{'name': 'Feral Thallid [Fallen Empires]', 'price': 0.5} 200\n",
      "{'name': 'Gnarled Mass [Betrayers of Kamigawa]', 'price': 0.36} 200\n",
      "{'name': 'Crippling Fatigue [Torment]', 'price': 0.4} 200\n",
      "{'name': 'Darting Merfolk [Mercadian Masques]', 'price': 0.4} 200\n",
      "{'name': 'Honor Guard [Stronghold]', 'price': 0.4} 200\n",
      "{'name': 'Arbor Colossus [Theros]', 'price': 0.6} 200\n",
      "{'name': 'Bay Falcon [Mirage]', 'price': 0.32} 200\n",
      "{'name': 'Sleight of Mind [Fifth Edition]', 'price': 0.48} 200\n",
      "{'name': \"Hunters' Feast [Magic 2011]\", 'price': 0.4} 200\n",
      "{'name': 'Goblin Banneret [Guilds of Ravnica]', 'price': 0.5} 200\n",
      "{'name': 'Trumpeting Herd [Modern Horizons]', 'price': 0.4} 200\n",
      "{'name': 'Heirloom Blade [Commander 2017]', 'price': 0.5} 200\n",
      "{'name': 'Infernal Pet [Kaldheim]', 'price': 0.4} 200\n"
     ]
    }
   ],
   "source": [
    "# scraping\n",
    "user_agent_list = [\n",
    "    'Mozilla/5.0 (Windows NT 10.0; Win64; x64) AppleWebKit/537.36 (KHTML, like Gecko) Chrome/109.0.0.0 Safari/537.36',\n",
    "    'Mozilla/5.0 (Macintosh; Intel Mac OS X 10_15_7) AppleWebKit/537.36 (KHTML, like Gecko) Chrome/108.0.0.0 Safari/537.36',\n",
    "    'Mozilla/5.0 (Macintosh; Intel Mac OS X 13_1) AppleWebKit/605.1.15 (KHTML, like Gecko) Version/16.1 Safari/605.1.15',\n",
    "]\n",
    "\n",
    "for i in range(num_pages):\n",
    "    headers = {'User-Agent': random.choice(user_agent_list)}\n",
    "    response = requests.get(base_url + str(i+1), headers=headers)\n",
    "    soup = BeautifulSoup(response.text, 'lxml')\n",
    "    items = soup.find_all('div', class_='product Norm')\n",
    "    \n",
    "    for item in items:\n",
    "        temp_dict = {}\n",
    "        title = item.find_all('p', class_='productTitle')[0].text.replace('\\r\\n', '').strip()\n",
    "        price = item.find_all('p', class_='productPrice')[0].text.replace('\\r\\n', '').replace('$', '').replace(',', '').strip()\n",
    "        if price == 'Varies':\n",
    "            item_name = item.find_all('div', class_='addNow single')[0].text\n",
    "            match = re.search(r'\\$([\\d.]+)', item_name)\n",
    "            if match:\n",
    "                price = match.group(1)\n",
    "        temp_dict['name'] = title\n",
    "        temp_dict['price'] = float(price)\n",
    "        onemtg.append(temp_dict)\n",
    "    \n",
    "    sleep(random.uniform(2,5))\n",
    "    if i % 100 == 0:\n",
    "        print(onemtg[-1], response.status_code)"
   ]
  },
  {
   "cell_type": "code",
   "execution_count": 6,
   "id": "823598c1",
   "metadata": {},
   "outputs": [
    {
     "name": "stdout",
     "output_type": "stream",
     "text": [
      "Number of cards (OneMTG):  44429\n"
     ]
    }
   ],
   "source": [
    "print(\"Number of cards (OneMTG): \", len(onemtg))"
   ]
  },
  {
   "cell_type": "code",
   "execution_count": 7,
   "id": "bf8219ad",
   "metadata": {},
   "outputs": [],
   "source": [
    "# create onemtg dataframe, convert price to float and create store column\n",
    "onemtg_df = pd.DataFrame(onemtg)\n",
    "onemtg_df['store'] = 'onemtg'"
   ]
  },
  {
   "cell_type": "code",
   "execution_count": 8,
   "id": "9c0e732c",
   "metadata": {},
   "outputs": [],
   "source": [
    "# save onemtg_df as csv\n",
    "onemtg_df.to_csv(\"one_mtg.csv\")"
   ]
  },
  {
   "cell_type": "markdown",
   "id": "12ef36d6",
   "metadata": {},
   "source": [
    "# Scraping CardsCitadel"
   ]
  },
  {
   "cell_type": "code",
   "execution_count": 38,
   "id": "29d0ffd0",
   "metadata": {},
   "outputs": [
    {
     "data": {
      "text/plain": [
       "200"
      ]
     },
     "execution_count": 38,
     "metadata": {},
     "output_type": "execute_result"
    }
   ],
   "source": [
    "# Indicate base url\n",
    "url = 'https://cardscitadel.com/collections/mtg-singles-instock'\n",
    "base_url = 'https://cardscitadel.com/collections/mtg-singles-instock?page='\n",
    "headers = {\n",
    "    \"User-Agent\": \"Mozilla/5.0 (Windows NT 10.0; WOW64) AppleWebKit/537.36 (KHTML, like Gecko) Chrome/109.0.0.0 Safari/537.36\"\n",
    "} \n",
    "response = requests.get(url, headers=headers)\n",
    "response.status_code"
   ]
  },
  {
   "cell_type": "code",
   "execution_count": 39,
   "id": "9c6d79f6",
   "metadata": {},
   "outputs": [
    {
     "name": "stdout",
     "output_type": "stream",
     "text": [
      "Number of pages (Citadel):  1706\n"
     ]
    }
   ],
   "source": [
    "# print number of pages\n",
    "soup = BeautifulSoup(response.text, 'lxml')\n",
    "num_pages = int(soup.find_all('div', class_='pages')[-1].text)\n",
    "print('Number of pages (Citadel): ', num_pages)"
   ]
  },
  {
   "cell_type": "code",
   "execution_count": 42,
   "id": "e90157b5",
   "metadata": {},
   "outputs": [],
   "source": [
    "# create empty list\n",
    "citadel = []"
   ]
  },
  {
   "cell_type": "code",
   "execution_count": 43,
   "id": "9923859a",
   "metadata": {},
   "outputs": [
    {
     "name": "stdout",
     "output_type": "stream",
     "text": [
      "{'name': 'Mercurial Spelldancer [Phyrexia: All Will Be One]', 'price': 0.9} 200\n",
      "{'name': 'Crippling Fear [Kaldheim]', 'price': 0.7} 200\n",
      "{'name': 'Slicer, Hired Muscle // Slicer, High-Speed Antagonist [Universes Beyond: Transformers]', 'price': 2.8} 200\n",
      "{'name': 'Daretti, Scrap Savant [Commander 2021]', 'price': 1.0} 200\n",
      "{'name': 'Pithing Needle [Saviors of Kamigawa]', 'price': 7.0} 200\n",
      "{'name': 'Reclusive Artificer [Magic Origins]', 'price': 0.3} 200\n",
      "{'name': 'Braids, Arisen Nightmare [Game Day 2022]', 'price': 22.9} 200\n",
      "{'name': 'Sheltered Thicket (Extended Art) [Doctor Who]', 'price': 1.0} 200\n",
      "{'name': 'Baffling End [Rivals of Ixalan]', 'price': 0.4} 200\n",
      "{'name': 'Spined Sliver [Time Spiral Timeshifted]', 'price': 3.8} 200\n",
      "{'name': 'Selhoff Entomber [Innistrad: Crimson Vow]', 'price': 0.2} 200\n",
      "{'name': 'Odric, Blood-Cursed [Innistrad: Double Feature]', 'price': 0.7} 200\n",
      "{'name': 'Spectral Adversary [Innistrad: Midnight Hunt Prerelease Promos]', 'price': 2.0} 200\n",
      "{'name': 'Ichor Shade [March of the Machine]', 'price': 0.2} 200\n",
      "{'name': 'Kaldra Compleat [The List]', 'price': 3.6} 200\n",
      "{'name': \"Radiant's Judgment [Dominaria Remastered]\", 'price': 0.2} 200\n",
      "{'name': \"Ashnod, Flesh Mechanist [The Brothers' War: Prerelease Promos]\", 'price': 1.1} 200\n",
      "{'name': 'Twist Allegiance [Betrayers of Kamigawa]', 'price': 0.7} 200\n",
      "{'name': 'Hurloon Battle Hymn [Dominaria United]', 'price': 0.3} 200\n",
      "{'name': 'Terminus [Modern Masters 2017]', 'price': 1.6} 200\n",
      "{'name': 'Rabble Rousing [Streets of New Capenna]', 'price': 1.2} 200\n",
      "{'name': 'Wind-Scarred Crag [Kamigawa: Neon Dynasty]', 'price': 0.4} 200\n",
      "{'name': 'Hissing Quagmire [Oath of the Gatewatch]', 'price': 1.4} 200\n",
      "{'name': 'Sword of the Ages [Legends]', 'price': 92.1} 200\n",
      "{'name': 'River Hoopoe [Hour of Devastation]', 'price': 0.4} 200\n",
      "{'name': 'Warcry Phoenix [Dominaria]', 'price': 0.4} 200\n",
      "{'name': 'Scale Up [Modern Horizons]', 'price': 0.7} 200\n",
      "{'name': 'Pacifism [Core Set 2020]', 'price': 0.3} 200\n",
      "{'name': 'Battlefield Promotion [Jumpstart]', 'price': 0.3} 200\n",
      "{'name': 'Ferocious Tigorilla [Ikoria: Lair of Behemoths]', 'price': 0.3} 200\n",
      "{'name': 'Blade of the Sixth Pride [Time Spiral Remastered]', 'price': 0.3} 200\n",
      "{'name': 'Displacer Beast (Showcase) [Dungeons & Dragons: Adventures in the Forgotten Realms]', 'price': 0.4} 200\n",
      "{'name': 'Rise of Extus [Strixhaven: School of Mages]', 'price': 0.3} 200\n",
      "{'name': \"Sunbringer's Touch [Dragons of Tarkir]\", 'price': 0.5} 200\n",
      "{'name': 'Koma, Cosmos Serpent [Kaldheim]', 'price': 20.9} 200\n"
     ]
    }
   ],
   "source": [
    "# scraping\n",
    "user_agent_list = [\n",
    "    'Mozilla/5.0 (Windows NT 10.0; Win64; x64) AppleWebKit/537.36 (KHTML, like Gecko) Chrome/109.0.0.0 Safari/537.36',\n",
    "    'Mozilla/5.0 (Macintosh; Intel Mac OS X 10_15_7) AppleWebKit/537.36 (KHTML, like Gecko) Chrome/108.0.0.0 Safari/537.36',\n",
    "    'Mozilla/5.0 (Macintosh; Intel Mac OS X 13_1) AppleWebKit/605.1.15 (KHTML, like Gecko) Version/16.1 Safari/605.1.15',\n",
    "]\n",
    "\n",
    "for i in range(num_pages):\n",
    "    headers = {'User-Agent': random.choice(user_agent_list)}\n",
    "    response = requests.get(base_url + str(i+1), headers=headers)\n",
    "    soup = BeautifulSoup(response.text, 'lxml')\n",
    "    items = soup.find_all('div', class_='product Norm')\n",
    "    \n",
    "    for item in items:\n",
    "        temp_dict = {}\n",
    "        title = item.find_all('p', class_='productTitle')[0].text.replace('\\r\\n', '').strip()\n",
    "        price = item.find_all('p', class_='productPrice')[0].text.replace('\\r\\n', '').replace('$', '').replace(',', '').strip()\n",
    "        if price == 'Varies':\n",
    "            item_name = item.find_all('div', class_='addNow single')[0].text\n",
    "            match = re.search(r'\\$([\\d.]+)', item_name)\n",
    "            if match:\n",
    "                price = match.group(1)\n",
    "        temp_dict['name'] = title\n",
    "        temp_dict['price'] = float(price)\n",
    "        citadel.append(temp_dict)\n",
    "    \n",
    "    sleep(random.uniform(2,5))\n",
    "    if i % 50 == 0:\n",
    "        print(citadel[-1], response.status_code)"
   ]
  },
  {
   "cell_type": "code",
   "execution_count": 44,
   "id": "88a9663b",
   "metadata": {},
   "outputs": [
    {
     "name": "stdout",
     "output_type": "stream",
     "text": [
      "Number of cards (CardsCitadel):  20461\n"
     ]
    }
   ],
   "source": [
    "print(\"Number of cards (CardsCitadel): \", len(citadel))"
   ]
  },
  {
   "cell_type": "code",
   "execution_count": 45,
   "id": "f182d20d",
   "metadata": {},
   "outputs": [],
   "source": [
    "# cleaning dataframe\n",
    "citadel_df = pd.DataFrame(citadel)\n",
    "citadel_df['store'] = 'citadel'"
   ]
  },
  {
   "cell_type": "code",
   "execution_count": 46,
   "id": "01fbf183",
   "metadata": {},
   "outputs": [],
   "source": [
    "citadel_df.to_csv('citadel.csv')"
   ]
  },
  {
   "cell_type": "markdown",
   "id": "78b757a7",
   "metadata": {},
   "source": [
    "# Scraping GreyOgreGames"
   ]
  },
  {
   "cell_type": "code",
   "execution_count": 27,
   "id": "f83ae2ee",
   "metadata": {},
   "outputs": [
    {
     "data": {
      "text/plain": [
       "200"
      ]
     },
     "execution_count": 27,
     "metadata": {},
     "output_type": "execute_result"
    }
   ],
   "source": [
    "# Indicate base url\n",
    "url = 'https://www.greyogregames.com/search?page=1&q=**'\n",
    "base_url = 'https://www.greyogregames.com/search?page={}&q=**'\n",
    "response = requests.get(url)\n",
    "response.status_code"
   ]
  },
  {
   "cell_type": "code",
   "execution_count": 28,
   "id": "98cb352f",
   "metadata": {},
   "outputs": [
    {
     "name": "stdout",
     "output_type": "stream",
     "text": [
      "Number of pages (Grey Ogre Games):  5294\n"
     ]
    }
   ],
   "source": [
    "# print number of pages\n",
    "soup = BeautifulSoup(response.text, 'lxml')\n",
    "page_list = []\n",
    "for anchor in soup.find_all('ol', class_='pagination')[0].find_all('a'):\n",
    "    if match := re.search(r'(\\d+)', anchor.text):\n",
    "            page_list.append(int(match.group(1)))\n",
    "num_pages = max(page_list)\n",
    "print('Number of pages (Grey Ogre Games): ', num_pages)"
   ]
  },
  {
   "cell_type": "code",
   "execution_count": 32,
   "id": "4c1a30c5",
   "metadata": {},
   "outputs": [],
   "source": [
    "# create empty list\n",
    "ogre = []"
   ]
  },
  {
   "cell_type": "code",
   "execution_count": 33,
   "id": "a7345c25",
   "metadata": {},
   "outputs": [
    {
     "name": "stdout",
     "output_type": "stream",
     "text": [
      "{'name': 'Plains (250)', 'price': 1.5} 200\n",
      "{'name': 'Satoru Umezawa (Buy-A-Box)', 'price': 2.5} 200\n",
      "{'name': 'Sram, Senior Edificer (Foil Etched)', 'price': 3.0} 200\n",
      "{'name': 'Vexing Devil', 'price': 4.5} 200\n",
      "{'name': \"Master's Guide-Mural // Master's Manufactory\", 'price': 0.5} 200\n",
      "{'name': 'Crypt Incursion', 'price': 0.5} 200\n",
      "{'name': 'Valduk, Keeper of the Flame (Retro)', 'price': 0.5} 200\n",
      "{'name': 'Everythingamajig (Counter) (Unfinity Foil Edition)', 'price': 1.5} 200\n",
      "{'name': 'Cartel Aristocrat', 'price': 0.5} 200\n",
      "{'name': 'Huatli and Raptor in Bilbao - Pro Tour Rivals of Ixalan 2018', 'price': 80.0} 200\n",
      "{'name': 'Falkenrath Perforator', 'price': 0.5} 200\n",
      "{'name': 'Healing Technique (Extended Art)', 'price': 1.0} 200\n",
      "{'name': 'Charix, the Raging Isle (386)', 'price': 1.0} 200\n",
      "{'name': \"Garruk's Uprising (Showcase)\", 'price': 1.5} 200\n",
      "{'name': 'Kin-Tree Warden', 'price': 0.5} 200\n",
      "{'name': 'Drudge Skeletons', 'price': 9.5} 200\n",
      "{'name': 'Geth, Lord of the Vault', 'price': 1.5} 200\n",
      "{'name': 'Glade Gnarr', 'price': 0.5} 200\n",
      "{'name': \"Rith's Charm\", 'price': 0.5} 200\n",
      "{'name': 'Nether Shadow', 'price': 2.5} 200\n",
      "{'name': 'Vastwood Gorger', 'price': 0.5} 200\n",
      "{'name': 'Roughshod Mentor', 'price': 0.5} 200\n",
      "{'name': 'Dawnbringer Charioteers', 'price': 1.0} 200\n",
      "{'name': 'Fire Drake', 'price': 0.5} 200\n",
      "{'name': 'Hedron Alignment', 'price': 1.0} 200\n",
      "{'name': 'Demystify', 'price': 0.5} 200\n",
      "{'name': 'Metathran Aerostat', 'price': 1.0} 200\n",
      "{'name': 'Intrepid Hero', 'price': 49.5} 200\n",
      "{'name': 'Desecrated Tomb', 'price': 3.5} 200\n",
      "{'name': 'Skeleton Ship', 'price': 4.0} 200\n",
      "{'name': 'Fissure Vent', 'price': 0.5} 200\n",
      "{'name': 'Creeping Corrosion', 'price': 1.0} 200\n",
      "{'name': 'Kasmina, Enigmatic Mentor', 'price': 1.5} 200\n",
      "{'name': 'Grave Pact', 'price': 21.0} 200\n",
      "could not convert string to float: ''\n",
      "could not convert string to float: ''\n",
      "could not convert string to float: ''\n",
      "could not convert string to float: ''\n",
      "could not convert string to float: ''\n",
      "could not convert string to float: ''\n",
      "could not convert string to float: ''\n",
      "could not convert string to float: ''\n",
      "could not convert string to float: ''\n",
      "could not convert string to float: ''\n",
      "could not convert string to float: ''\n",
      "could not convert string to float: ''\n",
      "could not convert string to float: ''\n",
      "could not convert string to float: ''\n",
      "could not convert string to float: ''\n",
      "could not convert string to float: ''\n",
      "could not convert string to float: ''\n",
      "could not convert string to float: ''\n",
      "could not convert string to float: ''\n",
      "could not convert string to float: ''\n",
      "could not convert string to float: ''\n",
      "could not convert string to float: ''\n",
      "could not convert string to float: ''\n",
      "could not convert string to float: ''\n",
      "could not convert string to float: ''\n",
      "could not convert string to float: ''\n",
      "could not convert string to float: ''\n",
      "could not convert string to float: ''\n",
      "could not convert string to float: ''\n",
      "could not convert string to float: ''\n",
      "could not convert string to float: ''\n",
      "could not convert string to float: ''\n",
      "could not convert string to float: ''\n",
      "could not convert string to float: ''\n",
      "could not convert string to float: ''\n",
      "could not convert string to float: ''\n",
      "could not convert string to float: ''\n",
      "could not convert string to float: ''\n",
      "could not convert string to float: ''\n",
      "could not convert string to float: ''\n",
      "could not convert string to float: ''\n",
      "could not convert string to float: ''\n",
      "could not convert string to float: ''\n",
      "could not convert string to float: ''\n",
      "could not convert string to float: ''\n",
      "could not convert string to float: ''\n",
      "could not convert string to float: ''\n",
      "could not convert string to float: ''\n",
      "could not convert string to float: ''\n",
      "could not convert string to float: ''\n",
      "{'name': 'Jungle Shrine', 'price': 1.0} 200\n",
      "{'name': 'Kumena, Tyrant of Orazca', 'price': 3.0} 200\n",
      "{'name': 'Soldier // Elephant Double-Sided Token', 'price': 2.0} 200\n",
      "{'name': 'Legolas, Master Archer Art Card (Gold-Stamped Signature)', 'price': 1.5} 200\n",
      "{'name': 'Nissa, Ascended Animist Art Card', 'price': 0.5} 200\n",
      "{'name': 'Shivan Dragon', 'price': 1.0} 200\n",
      "{'name': 'Plains Art Card 1 (Gold-Stamped Signature)', 'price': 1.0} 200\n",
      "{'name': 'Rumor Gatherer', 'price': 0.5} 200\n",
      "{'name': 'Dragon Token (001/003)', 'price': 0.0} 200\n",
      "{'name': 'Angel Token', 'price': 1.0} 200\n",
      "{'name': 'Psionic Entity', 'price': 1.0} 200\n",
      "{'name': 'Shivan Dragon', 'price': 1.0} 200\n",
      "{'name': 'Oakenform', 'price': 0.5} 200\n",
      "{'name': 'Shadow Guildmage (Jakub Slemr)', 'price': 1.0} 200\n",
      "{'name': 'Giant Growth', 'price': 0.5} 200\n",
      "{'name': 'Goblin Hero', 'price': 1.0} 200\n",
      "{'name': 'Septic Rats', 'price': 1.0} 200\n",
      "{'name': 'Forest (80)', 'price': 0.5} 200\n",
      "{'name': 'Thromok the Insatiable', 'price': 2.5} 200\n"
     ]
    }
   ],
   "source": [
    "# scraping\n",
    "user_agent_list = [\n",
    "    'Mozilla/5.0 (Windows NT 10.0; Win64; x64) AppleWebKit/537.36 (KHTML, like Gecko) Chrome/109.0.0.0 Safari/537.36',\n",
    "    'Mozilla/5.0 (Macintosh; Intel Mac OS X 10_15_7) AppleWebKit/537.36 (KHTML, like Gecko) Chrome/108.0.0.0 Safari/537.36',\n",
    "    'Mozilla/5.0 (Macintosh; Intel Mac OS X 13_1) AppleWebKit/605.1.15 (KHTML, like Gecko) Version/16.1 Safari/605.1.15',\n",
    "]\n",
    "\n",
    "for i in range(num_pages):\n",
    "    headers = {'User-Agent': random.choice(user_agent_list)}\n",
    "    response = requests.get(base_url.format(i+1), headers=headers)\n",
    "    soup = BeautifulSoup(response.text, 'lxml')\n",
    "    items = soup.find_all('div', class_='productCard__lower')\n",
    "    \n",
    "    for item in items:\n",
    "        name = item.find('p', class_='productCard__title').text.strip()\n",
    "        price = item.find('p', class_='productCard__price').text.replace('$', '').replace('SGD', '').replace(',','').strip()\n",
    "        try:\n",
    "            price = float(price)\n",
    "        except ValueError as e:\n",
    "            print(e)\n",
    "        ogre.append({\n",
    "            'name': name,\n",
    "            'price':price,\n",
    "        })\n",
    "    \n",
    "    sleep(random.uniform(1,2))\n",
    "    if i % 100 == 0:\n",
    "        print(ogre[-1], response.status_code)"
   ]
  },
  {
   "cell_type": "code",
   "execution_count": 35,
   "id": "25efb211",
   "metadata": {},
   "outputs": [
    {
     "name": "stdout",
     "output_type": "stream",
     "text": [
      "Number of cards (Ogre):  84703\n"
     ]
    }
   ],
   "source": [
    "print(\"Number of cards (Ogre): \", len(ogre))"
   ]
  },
  {
   "cell_type": "code",
   "execution_count": 36,
   "id": "a39255c6",
   "metadata": {},
   "outputs": [],
   "source": [
    "# cleaning dataframe\n",
    "ogre_df = pd.DataFrame(ogre)\n",
    "ogre_df['store'] = 'greyogre'"
   ]
  },
  {
   "cell_type": "code",
   "execution_count": 48,
   "id": "755ffa3c",
   "metadata": {},
   "outputs": [],
   "source": [
    "ogre_df = ogre_df.drop(ogre_df[ogre_df['price'] == ''].index).reset_index(drop=True)"
   ]
  },
  {
   "cell_type": "code",
   "execution_count": 49,
   "id": "219b813a",
   "metadata": {},
   "outputs": [],
   "source": [
    "ogre_df['price'] = ogre_df['price'].astype(float)"
   ]
  },
  {
   "cell_type": "code",
   "execution_count": 53,
   "id": "8ec82915",
   "metadata": {},
   "outputs": [],
   "source": [
    "ogre_df.to_csv('ogre.csv')"
   ]
  },
  {
   "cell_type": "markdown",
   "id": "645190dd",
   "metadata": {},
   "source": [
    "# Combining data and exporting it into SQLite3"
   ]
  },
  {
   "cell_type": "code",
   "execution_count": 2,
   "id": "9e18cecb",
   "metadata": {},
   "outputs": [],
   "source": [
    "ogre = pd.read_csv('ogre.csv', index_col=0)\n",
    "citadel = pd.read_csv('citadel.csv', index_col=0)\n",
    "agora = pd.read_csv('agora.csv', index_col=0)\n",
    "onemtg = pd.read_csv('one_mtg.csv', index_col=0)"
   ]
  },
  {
   "cell_type": "code",
   "execution_count": 3,
   "id": "521e938e",
   "metadata": {},
   "outputs": [],
   "source": [
    "combined = pd.concat([agora, onemtg, citadel, ogre]).dropna().reset_index(drop=True)\n",
    "combined = combined.drop(combined[combined['price'] == 0].index).reset_index(drop=True)\n",
    "combined = combined.drop(combined[combined['name'].str.lower().str.contains('art card')].index)"
   ]
  },
  {
   "cell_type": "code",
   "execution_count": 13,
   "id": "31338a66",
   "metadata": {},
   "outputs": [],
   "source": [
    "# SQLite database connection\n",
    "conn = sqlite3.connect('newcards.db')\n",
    "cur = conn.cursor()"
   ]
  },
  {
   "cell_type": "code",
   "execution_count": 7,
   "id": "e34493f4",
   "metadata": {},
   "outputs": [
    {
     "data": {
      "text/plain": [
       "<sqlite3.Cursor at 0x1f7210cdce0>"
      ]
     },
     "execution_count": 7,
     "metadata": {},
     "output_type": "execute_result"
    }
   ],
   "source": [
    "cur.execute(\"\"\"CREATE TABLE cards (\n",
    "    id INTEGER PRIMARY KEY AUTOINCREMENT,\n",
    "    name TEXT NOT NULL,\n",
    "    price REAL NOT NULL,\n",
    "    store TEXT NOT NULL\n",
    "    );\"\"\")"
   ]
  },
  {
   "cell_type": "code",
   "execution_count": 8,
   "id": "22cd2746",
   "metadata": {},
   "outputs": [],
   "source": [
    "for _, row in combined.iterrows():\n",
    "    conn.execute(\"INSERT INTO cards (name, price, store) VALUES (?, ?, ?)\", (row[0], row[1], row[2]))"
   ]
  },
  {
   "cell_type": "code",
   "execution_count": 9,
   "id": "93f89fe9",
   "metadata": {},
   "outputs": [],
   "source": [
    "rows = cur.execute(\"SELECT * FROM cards;\").fetchall()"
   ]
  },
  {
   "cell_type": "code",
   "execution_count": 11,
   "id": "68b144c7",
   "metadata": {},
   "outputs": [],
   "source": [
    "# Commit changes and close connection\n",
    "conn.commit()\n",
    "conn.close()"
   ]
  }
 ],
 "metadata": {
  "kernelspec": {
   "display_name": "Python 3 (ipykernel)",
   "language": "python",
   "name": "python3"
  },
  "language_info": {
   "codemirror_mode": {
    "name": "ipython",
    "version": 3
   },
   "file_extension": ".py",
   "mimetype": "text/x-python",
   "name": "python",
   "nbconvert_exporter": "python",
   "pygments_lexer": "ipython3",
   "version": "3.9.13"
  }
 },
 "nbformat": 4,
 "nbformat_minor": 5
}
